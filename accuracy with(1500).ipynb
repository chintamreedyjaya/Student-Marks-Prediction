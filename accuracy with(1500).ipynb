{
 "cells": [
  {
   "cell_type": "code",
   "execution_count": 16,
   "id": "2d19996d-07ef-4c1e-ae2c-8c4daa2e710e",
   "metadata": {},
   "outputs": [],
   "source": [
    "import pandas as pd\n",
    "import numpy as np\n",
    "\n",
    "from sklearn.model_selection import train_test_split, StratifiedKFold, cross_val_score\n",
    "from sklearn.preprocessing import StandardScaler, OneHotEncoder\n",
    "from sklearn.compose import ColumnTransformer\n",
    "from sklearn.pipeline import Pipeline\n",
    "from sklearn.metrics import classification_report, accuracy_score\n",
    "\n",
    "from sklearn.ensemble import RandomForestClassifier\n",
    "from sklearn.neighbors import KNeighborsClassifier\n",
    "from sklearn.naive_bayes import GaussianNB\n",
    "from sklearn.linear_model import LogisticRegression\n",
    "from sklearn.svm import SVC\n",
    "from sklearn.neural_network import MLPClassifier\n"
   ]
  },
  {
   "cell_type": "code",
   "execution_count": 17,
   "id": "648b5423-76c9-478b-ad0b-09bd21fa25c4",
   "metadata": {},
   "outputs": [
    {
     "name": "stdout",
     "output_type": "stream",
     "text": [
      "Shape: (1500, 10)\n",
      "   student_id  study_hours  attendance  previous_score  assignments_completed  \\\n",
      "0           1          6.7          90              85                     99   \n",
      "1           2          9.1          59              59                     50   \n",
      "2           3          1.4          63              92                     91   \n",
      "3           4          8.9          70              73                     87   \n",
      "4           5          7.8          96              73                     80   \n",
      "\n",
      "   sleep_hours  extracurriculars  parental_support  teacher_rating  \\\n",
      "0          9.2                 3                 4               8   \n",
      "1          7.1                 0                10               6   \n",
      "2          8.6                 5                 3               1   \n",
      "3          5.3                 5                 3               8   \n",
      "4          9.8                10                 4               5   \n",
      "\n",
      "   final_score  \n",
      "0           80  \n",
      "1           56  \n",
      "2           94  \n",
      "3           96  \n",
      "4           72  \n"
     ]
    }
   ],
   "source": [
    "df = pd.read_csv(r\"C:\\Users\\chint\\Downloads\\student_prediction_dataset_1500.csv\")\n",
    "\n",
    "print(\"Shape:\", df.shape)\n",
    "print(df.head())\n"
   ]
  },
  {
   "cell_type": "code",
   "execution_count": 18,
   "id": "6ca4a08b-f690-4fe9-9600-899210357dd3",
   "metadata": {},
   "outputs": [
    {
     "name": "stdout",
     "output_type": "stream",
     "text": [
      "Target distribution:\n",
      " final_score\n",
      "Average      475\n",
      "Excellent    398\n",
      "Good         373\n",
      "Poor         254\n",
      "Name: count, dtype: int64\n"
     ]
    }
   ],
   "source": [
    "# Function to map scores into categories\n",
    "def score_to_grade(score):\n",
    "    if score >= 85:\n",
    "        return \"Excellent\"\n",
    "    elif score >= 70:\n",
    "        return \"Good\"\n",
    "    elif score >= 50:\n",
    "        return \"Average\"\n",
    "    else:\n",
    "        return \"Poor\"\n",
    "\n",
    "# Apply mapping\n",
    "y = df[\"final_score\"].apply(score_to_grade)\n",
    "\n",
    "# Features = drop target + ID\n",
    "X = df.drop(columns=[\"final_score\", \"student_id\"])\n",
    "\n",
    "print(\"Target distribution:\\n\", y.value_counts())\n"
   ]
  },
  {
   "cell_type": "code",
   "execution_count": 19,
   "id": "f22b78aa-7b21-4b89-b49b-ccdb18ff8cfa",
   "metadata": {},
   "outputs": [
    {
     "name": "stdout",
     "output_type": "stream",
     "text": [
      "Numeric features: ['study_hours', 'attendance', 'previous_score', 'assignments_completed', 'sleep_hours', 'extracurriculars', 'parental_support', 'teacher_rating']\n",
      "Categorical features: []\n"
     ]
    }
   ],
   "source": [
    "num_features = X.select_dtypes(include=[\"int64\", \"float64\"]).columns.tolist()\n",
    "cat_features = X.select_dtypes(include=[\"object\"]).columns.tolist()\n",
    "\n",
    "print(\"Numeric features:\", num_features)\n",
    "print(\"Categorical features:\", cat_features)\n"
   ]
  },
  {
   "cell_type": "code",
   "execution_count": 20,
   "id": "31d184fa-a192-431b-b80b-df75982c4710",
   "metadata": {},
   "outputs": [],
   "source": [
    "numeric_transformer = Pipeline([\n",
    "    (\"scaler\", StandardScaler())\n",
    "])\n",
    "\n",
    "categorical_transformer = OneHotEncoder(handle_unknown=\"ignore\", sparse_output=False)\n",
    "\n",
    "preprocessor = ColumnTransformer([\n",
    "    (\"num\", numeric_transformer, num_features),\n",
    "    (\"cat\", categorical_transformer, cat_features)\n",
    "])\n"
   ]
  },
  {
   "cell_type": "code",
   "execution_count": 22,
   "id": "4301cdac-8071-41fc-ac87-0eb1f5c40aa8",
   "metadata": {},
   "outputs": [],
   "source": [
    "X_train, X_test, y_train, y_test = train_test_split(\n",
    "    X, y, test_size=0.2, random_state=42, stratify=y\n",
    ")\n",
    "\n"
   ]
  },
  {
   "cell_type": "code",
   "execution_count": 25,
   "id": "b743e69f-04ab-42ad-bac4-345e37733083",
   "metadata": {},
   "outputs": [],
   "source": [
    "models = {\n",
    "    \"RandomForest\": Pipeline([\n",
    "        (\"prep\", preprocessor),\n",
    "        (\"clf\", RandomForestClassifier(n_estimators=300, random_state=42))\n",
    "    ]),\n",
    "    \"kNN\": Pipeline([\n",
    "        (\"prep\", preprocessor),\n",
    "        (\"clf\", KNeighborsClassifier(n_neighbors=7))\n",
    "    ]),\n",
    "    \"NaiveBayes\": Pipeline([\n",
    "        (\"prep\", preprocessor),\n",
    "        (\"clf\", GaussianNB())\n",
    "    ]),\n",
    "    \"LogisticRegression\": Pipeline([\n",
    "        (\"prep\", preprocessor),\n",
    "        (\"clf\", LogisticRegression(max_iter=1000))\n",
    "    ]),\n",
    "    \"SVM\": Pipeline([\n",
    "        (\"prep\", preprocessor),\n",
    "        (\"clf\", SVC(kernel=\"rbf\", C=1.0, gamma=\"scale\", probability=False))\n",
    "    ]),\n",
    "    \"NeuralNetwork\": Pipeline([\n",
    "        (\"prep\", preprocessor),\n",
    "        (\"clf\", MLPClassifier(hidden_layer_sizes=(128,), activation=\"relu\",\n",
    "                              max_iter=1000, random_state=42))\n",
    "    ])\n",
    "}\n",
    "\n"
   ]
  },
  {
   "cell_type": "code",
   "execution_count": 27,
   "id": "ea0b973e-02ee-4b1f-99b7-2909d72ab387",
   "metadata": {},
   "outputs": [
    {
     "name": "stdout",
     "output_type": "stream",
     "text": [
      "\n",
      "🔹 Training RandomForest ...\n",
      "RandomForest Test Accuracy: 28.67%\n",
      "              precision    recall  f1-score   support\n",
      "\n",
      "     Average       0.33      0.48      0.39        95\n",
      "   Excellent       0.19      0.19      0.19        80\n",
      "        Good       0.29      0.28      0.29        74\n",
      "        Poor       0.33      0.08      0.13        51\n",
      "\n",
      "    accuracy                           0.29       300\n",
      "   macro avg       0.29      0.26      0.25       300\n",
      "weighted avg       0.29      0.29      0.27       300\n",
      "\n",
      "\n",
      "🔹 Training kNN ...\n",
      "kNN Test Accuracy: 24.67%\n",
      "              precision    recall  f1-score   support\n",
      "\n",
      "     Average       0.29      0.40      0.34        95\n",
      "   Excellent       0.22      0.25      0.23        80\n",
      "        Good       0.26      0.20      0.23        74\n",
      "        Poor       0.05      0.02      0.03        51\n",
      "\n",
      "    accuracy                           0.25       300\n",
      "   macro avg       0.20      0.22      0.21       300\n",
      "weighted avg       0.22      0.25      0.23       300\n",
      "\n",
      "\n",
      "🔹 Training NaiveBayes ...\n",
      "NaiveBayes Test Accuracy: 31.00%\n",
      "              precision    recall  f1-score   support\n",
      "\n",
      "     Average       0.35      0.68      0.46        95\n",
      "   Excellent       0.25      0.20      0.22        80\n",
      "        Good       0.25      0.16      0.20        74\n",
      "        Poor       0.00      0.00      0.00        51\n",
      "\n",
      "    accuracy                           0.31       300\n",
      "   macro avg       0.21      0.26      0.22       300\n",
      "weighted avg       0.24      0.31      0.25       300\n",
      "\n",
      "\n",
      "🔹 Training LogisticRegression ...\n",
      "LogisticRegression Test Accuracy: 29.67%\n",
      "              precision    recall  f1-score   support\n",
      "\n",
      "     Average       0.33      0.65      0.44        95\n",
      "   Excellent       0.21      0.16      0.18        80\n",
      "        Good       0.27      0.19      0.22        74\n",
      "        Poor       0.00      0.00      0.00        51\n",
      "\n",
      "    accuracy                           0.30       300\n",
      "   macro avg       0.20      0.25      0.21       300\n",
      "weighted avg       0.23      0.30      0.24       300\n",
      "\n",
      "\n",
      "🔹 Training SVM ...\n",
      "SVM Test Accuracy: 32.67%\n",
      "              precision    recall  f1-score   support\n",
      "\n",
      "     Average       0.36      0.67      0.47        95\n",
      "   Excellent       0.29      0.23      0.25        80\n",
      "        Good       0.28      0.22      0.24        74\n",
      "        Poor       0.00      0.00      0.00        51\n",
      "\n",
      "    accuracy                           0.33       300\n",
      "   macro avg       0.23      0.28      0.24       300\n",
      "weighted avg       0.26      0.33      0.28       300\n",
      "\n",
      "\n",
      "🔹 Training NeuralNetwork ...\n"
     ]
    },
    {
     "name": "stderr",
     "output_type": "stream",
     "text": [
      "C:\\Users\\chint\\.conda\\envs\\student_pred\\lib\\site-packages\\sklearn\\metrics\\_classification.py:1731: UndefinedMetricWarning: Precision is ill-defined and being set to 0.0 in labels with no predicted samples. Use `zero_division` parameter to control this behavior.\n",
      "  _warn_prf(average, modifier, f\"{metric.capitalize()} is\", result.shape[0])\n",
      "C:\\Users\\chint\\.conda\\envs\\student_pred\\lib\\site-packages\\sklearn\\metrics\\_classification.py:1731: UndefinedMetricWarning: Precision is ill-defined and being set to 0.0 in labels with no predicted samples. Use `zero_division` parameter to control this behavior.\n",
      "  _warn_prf(average, modifier, f\"{metric.capitalize()} is\", result.shape[0])\n",
      "C:\\Users\\chint\\.conda\\envs\\student_pred\\lib\\site-packages\\sklearn\\metrics\\_classification.py:1731: UndefinedMetricWarning: Precision is ill-defined and being set to 0.0 in labels with no predicted samples. Use `zero_division` parameter to control this behavior.\n",
      "  _warn_prf(average, modifier, f\"{metric.capitalize()} is\", result.shape[0])\n",
      "C:\\Users\\chint\\.conda\\envs\\student_pred\\lib\\site-packages\\sklearn\\metrics\\_classification.py:1731: UndefinedMetricWarning: Precision is ill-defined and being set to 0.0 in labels with no predicted samples. Use `zero_division` parameter to control this behavior.\n",
      "  _warn_prf(average, modifier, f\"{metric.capitalize()} is\", result.shape[0])\n",
      "C:\\Users\\chint\\.conda\\envs\\student_pred\\lib\\site-packages\\sklearn\\metrics\\_classification.py:1731: UndefinedMetricWarning: Precision is ill-defined and being set to 0.0 in labels with no predicted samples. Use `zero_division` parameter to control this behavior.\n",
      "  _warn_prf(average, modifier, f\"{metric.capitalize()} is\", result.shape[0])\n",
      "C:\\Users\\chint\\.conda\\envs\\student_pred\\lib\\site-packages\\sklearn\\metrics\\_classification.py:1731: UndefinedMetricWarning: Precision is ill-defined and being set to 0.0 in labels with no predicted samples. Use `zero_division` parameter to control this behavior.\n",
      "  _warn_prf(average, modifier, f\"{metric.capitalize()} is\", result.shape[0])\n"
     ]
    },
    {
     "name": "stdout",
     "output_type": "stream",
     "text": [
      "NeuralNetwork Test Accuracy: 28.33%\n",
      "              precision    recall  f1-score   support\n",
      "\n",
      "     Average       0.38      0.39      0.38        95\n",
      "   Excellent       0.26      0.23      0.24        80\n",
      "        Good       0.28      0.30      0.29        74\n",
      "        Poor       0.15      0.16      0.15        51\n",
      "\n",
      "    accuracy                           0.28       300\n",
      "   macro avg       0.27      0.27      0.27       300\n",
      "weighted avg       0.28      0.28      0.28       300\n",
      "\n"
     ]
    },
    {
     "name": "stderr",
     "output_type": "stream",
     "text": [
      "C:\\Users\\chint\\.conda\\envs\\student_pred\\lib\\site-packages\\sklearn\\neural_network\\_multilayer_perceptron.py:781: ConvergenceWarning: Stochastic Optimizer: Maximum iterations (1000) reached and the optimization hasn't converged yet.\n",
      "  warnings.warn(\n"
     ]
    }
   ],
   "source": [
    "for name, pipe in models.items():\n",
    "    print(f\"\\n🔹 Training {name} ...\")\n",
    "    pipe.fit(X_train, y_train)\n",
    "    y_pred = pipe.predict(X_test)\n",
    "    acc = accuracy_score(y_test, y_pred) * 100\n",
    "    print(f\"{name} Test Accuracy: {acc:.2f}%\")\n",
    "    print(classification_report(y_test, y_pred))\n",
    "\n"
   ]
  },
  {
   "cell_type": "code",
   "execution_count": 28,
   "id": "6747f2a6-85d1-41a0-b73f-c4eb472bd281",
   "metadata": {},
   "outputs": [
    {
     "name": "stdout",
     "output_type": "stream",
     "text": [
      "RandomForest CV accuracy mean: 0.2833 | scores: [0.27333333 0.29333333 0.28333333 0.27333333 0.29333333]\n",
      "kNN CV accuracy mean: 0.2860 | scores: [0.29666667 0.29       0.28       0.29666667 0.26666667]\n",
      "NaiveBayes CV accuracy mean: 0.3040 | scores: [0.32333333 0.31666667 0.26       0.30333333 0.31666667]\n",
      "LogisticRegression CV accuracy mean: 0.2973 | scores: [0.33333333 0.31       0.25666667 0.3        0.28666667]\n",
      "SVM CV accuracy mean: 0.3067 | scores: [0.28333333 0.3        0.3        0.33666667 0.31333333]\n",
      "NeuralNetwork CV accuracy mean: 0.2693 | scores: [0.25666667 0.22       0.28666667 0.30333333 0.28      ]\n"
     ]
    }
   ],
   "source": [
    "cv = StratifiedKFold(n_splits=5, shuffle=True, random_state=42)\n",
    "\n",
    "for name, pipe in models.items():\n",
    "    scores = cross_val_score(pipe, X, y, cv=cv, scoring=\"accuracy\", n_jobs=-1)\n",
    "    print(f\"{name} CV accuracy mean: {scores.mean():.4f} | scores: {scores}\")\n"
   ]
  },
  {
   "cell_type": "code",
   "execution_count": 30,
   "id": "dbee9247-b56b-4e44-8028-35a19743f662",
   "metadata": {},
   "outputs": [
    {
     "name": "stderr",
     "output_type": "stream",
     "text": [
      "C:\\Users\\chint\\.conda\\envs\\student_pred\\lib\\site-packages\\sklearn\\neural_network\\_multilayer_perceptron.py:781: ConvergenceWarning: Stochastic Optimizer: Maximum iterations (1000) reached and the optimization hasn't converged yet.\n",
      "  warnings.warn(\n"
     ]
    },
    {
     "name": "stdout",
     "output_type": "stream",
     "text": [
      "                Model  Test Accuracy (%)  CV Accuracy (%)\n",
      "4                 SVM              32.67            30.67\n",
      "2          NaiveBayes              31.00            30.40\n",
      "3  LogisticRegression              29.67            29.73\n",
      "0        RandomForest              28.67            28.33\n",
      "5       NeuralNetwork              28.33            26.93\n",
      "1                 kNN              24.67            28.60\n"
     ]
    }
   ],
   "source": [
    "results = []\n",
    "\n",
    "for name, pipe in models.items():\n",
    "    # --- Test Accuracy ---\n",
    "    pipe.fit(X_train, y_train)\n",
    "    y_pred = pipe.predict(X_test)\n",
    "    test_acc = accuracy_score(y_test, y_pred) * 100\n",
    "\n",
    "    # --- Cross-validation Accuracy ---\n",
    "    scores = cross_val_score(pipe, X, y, cv=cv, scoring=\"accuracy\", n_jobs=-1)\n",
    "    cv_acc = scores.mean() * 100\n",
    "\n",
    "    results.append({\"Model\": name,\n",
    "                    \"Test Accuracy (%)\": round(test_acc, 2),\n",
    "                    \"CV Accuracy (%)\": round(cv_acc, 2)})\n",
    "\n",
    "results_df = pd.DataFrame(results).sort_values(by=\"Test Accuracy (%)\", ascending=False)\n",
    "print(results_df)\n"
   ]
  },
  {
   "cell_type": "code",
   "execution_count": 31,
   "id": "35316c3c-d698-4c2f-94e6-867c819b45f9",
   "metadata": {},
   "outputs": [
    {
     "name": "stdout",
     "output_type": "stream",
     "text": [
      "final_score\n",
      "Average      0.316667\n",
      "Excellent    0.265333\n",
      "Good         0.248667\n",
      "Poor         0.169333\n",
      "Name: proportion, dtype: float64\n"
     ]
    }
   ],
   "source": [
    "print(y.value_counts(normalize=True))\n"
   ]
  },
  {
   "cell_type": "code",
   "execution_count": 32,
   "id": "0a93fd22-043e-45b9-94fb-8a9e92d35a86",
   "metadata": {},
   "outputs": [
    {
     "name": "stdout",
     "output_type": "stream",
     "text": [
      "RF + SMOTE mean CV accuracy: 0.2533333333333333\n"
     ]
    }
   ],
   "source": [
    "from imblearn.over_sampling import SMOTE\n",
    "from imblearn.pipeline import Pipeline as ImbPipeline\n",
    "\n",
    "imb_pipe = ImbPipeline([\n",
    "    (\"prep\", preprocessor),\n",
    "    (\"smote\", SMOTE(random_state=42)),\n",
    "    (\"clf\", RandomForestClassifier(n_estimators=300, random_state=42))\n",
    "])\n",
    "\n",
    "scores = cross_val_score(imb_pipe, X, y, cv=5, scoring=\"accuracy\")\n",
    "print(\"RF + SMOTE mean CV accuracy:\", scores.mean())\n"
   ]
  },
  {
   "cell_type": "code",
   "execution_count": 34,
   "id": "3548ae08-35ea-4edc-9e84-ed5e3a2fef61",
   "metadata": {},
   "outputs": [
    {
     "name": "stdout",
     "output_type": "stream",
     "text": [
      "Best RF params: {'clf__n_estimators': 500, 'clf__min_samples_split': 10, 'clf__max_depth': 10}\n",
      "Best CV accuracy: 0.2908333333333334\n"
     ]
    }
   ],
   "source": [
    "from sklearn.model_selection import RandomizedSearchCV\n",
    "\n",
    "param_grid = {\n",
    "    \"clf__n_estimators\": [100, 300, 500],\n",
    "    \"clf__max_depth\": [10, 20, 30, None],\n",
    "    \"clf__min_samples_split\": [2, 5, 10]\n",
    "}\n",
    "\n",
    "search = RandomizedSearchCV(\n",
    "    Pipeline([(\"prep\", preprocessor), (\"clf\", RandomForestClassifier(random_state=42))]),\n",
    "    param_distributions=param_grid,\n",
    "    n_iter=10,\n",
    "    cv=5,\n",
    "    scoring=\"accuracy\",\n",
    "    n_jobs=-1,\n",
    "    random_state=42\n",
    ")\n",
    "\n",
    "search.fit(X_train, y_train)\n",
    "print(\"Best RF params:\", search.best_params_)\n",
    "print(\"Best CV accuracy:\", search.best_score_)\n"
   ]
  },
  {
   "cell_type": "code",
   "execution_count": null,
   "id": "177c879d-ee8d-4ed4-a48b-b301edf5ef18",
   "metadata": {},
   "outputs": [],
   "source": []
  }
 ],
 "metadata": {
  "kernelspec": {
   "display_name": "Python [conda env:.conda-student_pred]",
   "language": "python",
   "name": "conda-env-.conda-student_pred-py"
  },
  "language_info": {
   "codemirror_mode": {
    "name": "ipython",
    "version": 3
   },
   "file_extension": ".py",
   "mimetype": "text/x-python",
   "name": "python",
   "nbconvert_exporter": "python",
   "pygments_lexer": "ipython3",
   "version": "3.10.18"
  }
 },
 "nbformat": 4,
 "nbformat_minor": 5
}
